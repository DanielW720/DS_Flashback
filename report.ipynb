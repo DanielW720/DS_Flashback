{
 "cells": [
  {
   "cell_type": "markdown",
   "source": [
    "<center> <h1> <b> Data Science på Flashback </b> <br> ...i dubbel bemärkelse </h1> </center>\r\n",
    "\r\n",
    "Daniel Westerlund <br>\r\n",
    "westerlund@gmail.com <br>\r\n",
    "2021-08-15"
   ],
   "metadata": {}
  },
  {
   "cell_type": "markdown",
   "source": [
    "* [Introduktion](#Introduktion)\r\n",
    "* [Datahämtning](#Datahämtning)\r\n",
    "    - [Hur ska data hämtas?](#Hur-ska-data-hämtas?)\r\n",
    "    - [Webbskrapning](#Webbskrapning)\r\n",
    "* [Analys av data](#Analys-av-data)\r\n",
    "    - [Trådanalys](#Trådanalys)\r\n",
    "    - [Ordanalys](#Ordanalys)\r\n",
    "* [Slutsats](#Slutsats)\r\n",
    "* [Källförteckning](#Källförteckning)"
   ],
   "metadata": {}
  },
  {
   "cell_type": "markdown",
   "source": [
    "# Introduktion\r\n",
    "\r\n",
    "Data Science som karriärspår är något många på kort tid har börjat visa stort intresse för. Har man läst artiklar på nätet om dess historia vet man att termen har funnits i årtionden (testa att googla “when did data science become a thing”), men min uppfattning är att Data Science i dess nutida mening inte tog fart förrän 2010-talet, i takt med att exempelvis smart phones och maskininlärning gjorde entré i världen.\r\n",
    "\r\n",
    "I det här projektet har jag tänkt att utforska antalet trådstartar på Sveriges största webbforum (Flashback) som innehåller vissa nyckelord eller nyckelfraser, till exempel “deep learning”, “big data”, “maskininlärning” eller givetvis “data scientist”. För att filtrera bort så många trådar som möjligt på förhand kommer jag hålla mig till två utvalda kategorier, nämligen *Utbildning och studier* samt *Arbetsliv och arbetsmarknad*. Målet är att visualisera hur “kvantiteten diskussion” kring data science har utvecklats under 2010-talet på webben och på så sätt ge en bild av hur intresset för ämnet har utvecklats IRL. Tesen är att en uppåtlutande trend kommer avslöja sig.\r\n",
    "\r\n",
    "Utöver detta ska jag även undersöka vilka de vanligaste orden i dessa inlägg är, samt analysera om den samlade styrkan i orden pekar på att inläggen är positiva eller negativa.\r\n",
    "\r\n",
    "# Datahämtning\r\n",
    "\r\n",
    "## Hur ska data hämtas?\r\n",
    "\r\n",
    "Det finns för mig ingen tillgång till någon databas eller något API att hämta data från. Istället kommer webbskrapning att utnyttjas. Det innebär att jag kommer använda ett paket som heter `BeautifulSoup4` och ett paket som heter `requests` för att på ett dynamiskt och effektivt sätt hämta önskad data från sajten. För att hantera inhämtad data använder jag också de populära paketen `pandas` och `numpy`. Paketen `re` och `time` används för regular expressions och för att pausa skrapningen mellan varje iteration.\r\n"
   ],
   "metadata": {}
  },
  {
   "cell_type": "code",
   "execution_count": 1,
   "source": [
    "from bs4 import BeautifulSoup\r\n",
    "import requests\r\n",
    "import pandas as pd\r\n",
    "import numpy as np\r\n",
    "import re\r\n",
    "import time"
   ],
   "outputs": [],
   "metadata": {}
  },
  {
   "cell_type": "markdown",
   "source": [
    "\r\n",
    "## Webbskrapning\r\n",
    "\r\n",
    "Låt oss börja med att skapa en funktion `get_basics` för att hämta sex grundläggande variabler, nämligen\r\n",
    "\r\n",
    "* *title*: ämnesrubrik\r\n",
    "* *last_response*: datum för senaste svaret\r\n",
    "* *responses*: antal svar\r\n",
    "* *views*: antal visningar\r\n",
    "* *link*: länk till tråden\r\n",
    "* *categorie*: kategorin som tråden tillhör.\r\n",
    "\r\n",
    "Denna funktion returnerar en data frame (tabell) med dessa variabler, och kommer kallas på från en for-loop $2\\cdot657$ gånger. Vi vill nämligen hämta trådar från så många sidor som möjligt, men från två olika kategorier. Eftersom det i skrivande stund \"endast\" finns 657 sidor för kategorin *Utbildning och studier* låter vi 647 vara antalet sidor per kategori. \r\n"
   ],
   "metadata": {}
  },
  {
   "cell_type": "code",
   "execution_count": null,
   "source": [
    "def get_basics():\r\n",
    "    ''' Collect data, return 2D array '''\r\n",
    "    data_entries = np.empty((0, 6), str)\r\n",
    "    categories_dict = {'Utbildning och studier': 'https://www.flashback.org/f303', \r\n",
    "                        'Arbetsliv och arbetsmarknad': 'https://www.flashback.org/f105'}\r\n",
    "    for category, threads_link in categories_dict.items():\r\n",
    "        for page_num in range(1, 657):\r\n",
    "            try:\r\n",
    "                time.sleep(1)\r\n",
    "                thread_table_link = threads_link + 'p' + str(page_num)\r\n",
    "                html_text = requests.get(thread_table_link, headers={\"User-Agent\":\"Chrome/78.0.3904.87\"}).text\r\n",
    "                soup = BeautifulSoup(html_text, 'lxml')\r\n",
    "                threads = soup.find('table', class_ = 'table table-striped table-threads table-condensed') \\\r\n",
    "                                    .find('tbody').find_all('tr', class_ = None)\r\n",
    "                for thread in threads:\r\n",
    "                    title = thread.find('td', class_='td_title').find('a').text\r\n",
    "                    last_response = thread.find('td', class_ = 'td_last_post text-right nowrap hidden-xs').find('div').text.strip()[0:10]\r\n",
    "\r\n",
    "                    replies_views = thread.find('td', class_ = 'td_replies nowrap text-right hidden-xs').find_all('div')\r\n",
    "                    responses = ''.join(re.findall('\\d+', replies_views[0].text))\r\n",
    "                    views = ''.join(re.findall('\\d+', replies_views[1].text))\r\n",
    "\r\n",
    "                    link = 'https://www.flashback.org' + thread.find('td', class_='td_title').find('a')['href']\r\n",
    "\r\n",
    "                    # Everything above worked out. Now let's add data to the data_entries array\r\n",
    "                    row_data = np.array([[title, last_response, responses, views, link, category]])\r\n",
    "                    data_entries = np.append(arr=data_entries, values=row_data, axis=0)\r\n",
    "            except:\r\n",
    "                # There might be a few unforeseen errors regarding the HTML scraping. In such cases, we're simply skipping that page\r\n",
    "                print('Error at page_num ' + str(page_num) + '. Category: ' + category)\r\n",
    "                continue\r\n",
    "    return data_entries\r\n",
    "\r\n",
    "flashback_data = get_basics()\r\n",
    "\r\n",
    "# Set up a pandas data frame\r\n",
    "flashback_df = pd.DataFrame(data=flashback_data, columns=['title', 'last_response', 'responses', 'views', 'link', 'categorie'])"
   ],
   "outputs": [],
   "metadata": {}
  },
  {
   "cell_type": "markdown",
   "source": [
    "Innan vi går vidare till att hämta sista bitarna information från sajten måste vi filtrera bort alla trådar som inte är av intresse. Gör vi detta redan nu så undviker vi att hämta resterande data för trådar som inte är intressanta.\r\n",
    "\r\n",
    "`flashback_df` filtreras med hjälp av en ordlista från filen nyckelord.csv, en fil innehållandes 50 stycken ord eller termer som relaterar till Data Science. \r\n",
    "\r\n",
    "Efter filtreringen innehåller `flashback_df` endast trådar som relaterar till DS. Bra start, men vi vill ha mer information för att kunna utföra analysen. Datum för trådstart hämtas genom att iterera länkarna i `flashback_df` och använda dessa för att komma åt datum för trådstart (`date_of_post`) samt hela det först inlägget (`post`). Dessa variabler samlas i `date_array` respektive `first_post`, som i sin tur läggs in i `flashback_df`."
   ],
   "metadata": {}
  },
  {
   "cell_type": "code",
   "execution_count": null,
   "source": [
    "import csv\r\n",
    "\r\n",
    "with open('nyckelord.csv', newline='') as f:\r\n",
    "    reader = csv.reader(f)\r\n",
    "    unflattened_wordlist = list(reader)\r\n",
    "    keywords = [word + '|' for sublist in unflattened_wordlist[0:-1] for word in sublist]\r\n",
    "    keywords_string = ''.join(keywords) + unflattened_wordlist[-1][0]\r\n",
    "\r\n",
    "# Filter flashback_df for titles containing at least one of the words from keywords.csv\r\n",
    "flashback_df = flashback_df[flashback_df['title'].str.contains(keywords_string, case = False)]\r\n",
    "\r\n",
    "# Collect date and first post of each thread\r\n",
    "date_array = np.empty(0, dtype=str)\r\n",
    "first_post = np.empty(0, dtype=str)\r\n",
    "for index, link in enumerate(flashback_df['link']):\r\n",
    "    time.sleep(1)\r\n",
    "    html_text = requests.get(link, headers={\"User-Agent\":\"Chrome/78.0.3904.87\"}).text\r\n",
    "    soup = BeautifulSoup(html_text, 'lxml')\r\n",
    "    \r\n",
    "    # Collect date\r\n",
    "    date_of_post = soup.find('div', class_='post-heading').text.strip()\r\n",
    "    date_of_post = ''.join(re.findall(\"(\\d{4}-\\d{2}-\\d{2})|(Igår)|(Idag)\", date_of_post)[0])\r\n",
    "\r\n",
    "    # Collect first post\r\n",
    "    post = soup.find('div', class_='post_message').text.strip()\r\n",
    "\r\n",
    "    # Store date and post in their arrays\r\n",
    "    date_array = np.append(date_array, date_of_post)\r\n",
    "    first_post = np.append(first_post, post)\r\n",
    "\r\n",
    "# Add to data frame\r\n",
    "flashback_df['date'] = date_array\r\n",
    "flashback_df['first_post'] = first_post"
   ],
   "outputs": [],
   "metadata": {}
  },
  {
   "cell_type": "markdown",
   "source": [
    "Nu är `flashback_df` nästan klar. För att förberada tabellen så bra som möjligt gäller det att respektive kolumn är av korrekt typ. Funktionen `to_date()` korrigerar de observationer vars datumkolumner antingen har värdet \"Idag\" eller värdet \"Igår\". När det är klart har alla datum formatet år-månad-dag, varpå de två datumkolumnerna kan konverteras till typen \"datetime\". Dessutom konverteras `responses` och `views` till `integer` istället för strängar."
   ],
   "metadata": {}
  },
  {
   "cell_type": "code",
   "execution_count": 10,
   "source": [
    "from datetime import date, timedelta\r\n",
    "\r\n",
    "todays_date = date.today().strftime('%Y-%m-%d')\r\n",
    "yesterdays_date = date.today() - timedelta(days=1)\r\n",
    "\r\n",
    "def to_date(date_string):\r\n",
    "    '''Helper function for coverting strings to correct date on the form Y-m-d'''\r\n",
    "    if date_string[0:4] == 'Idag':\r\n",
    "        return todays_date\r\n",
    "    elif date_string[0:4] == 'Igår':\r\n",
    "        return yesterdays_date\r\n",
    "    else:\r\n",
    "        return date_string\r\n",
    "\r\n",
    "\r\n",
    "# Correct 'date' and 'last_response' for observations where value = 'Idag ...' or value = 'Igår ...'\r\n",
    "flashback_df['last_response'] = flashback_df['last_response'].apply(to_date)\r\n",
    "flashback_df['date'] = flashback_df['date'].apply(to_date)\r\n",
    "\r\n",
    "# Convert 'date' and 'last_response' to date type, 'responses' and 'views' to int type\r\n",
    "flashback_df['date'] = pd.to_datetime(flashback_df['date'], format='%Y-%m-%d')\r\n",
    "flashback_df['last_response'] = pd.to_datetime(flashback_df['last_response'], format='%Y-%m-%d')\r\n",
    "flashback_df['responses'] = pd.to_numeric(flashback_df['responses'], downcast='integer')\r\n",
    "flashback_df['views'] = pd.to_numeric(flashback_df['views'], downcast='integer')"
   ],
   "outputs": [],
   "metadata": {}
  },
  {
   "cell_type": "markdown",
   "source": [
    "Den slutgiltiga data frame:en är 2258 rader $\\cdot$ 8 kolumner stor och ser ut enligt följande:"
   ],
   "metadata": {}
  },
  {
   "cell_type": "code",
   "execution_count": 14,
   "source": [
    "# Glimpse of data frame\r\n",
    "flashback_df"
   ],
   "outputs": [
    {
     "output_type": "execute_result",
     "data": {
      "text/plain": [
       "                                                  title last_response  \\\n",
       "0        Kurslitteratur online - Programmering 1 python    2021-08-03   \n",
       "1                                        Datateknik KTH    2021-08-03   \n",
       "2     Varför finns ingen YH programmerings utbildnin...    2021-07-27   \n",
       "3              Examenstitlar vid datateknik/-vetenskap?    2021-07-26   \n",
       "4     Statistik och dataanalys vs tekniskfysik/matem...    2021-07-26   \n",
       "...                                                 ...           ...   \n",
       "2253                  Dataingenjör och Elektroingenjör!    2011-02-01   \n",
       "2254    Arbetsprover för webbutvecklare(som söker jobb)    2011-02-01   \n",
       "2255  Vilka Utbildningar krävs för att bli Datatekni...    2011-01-30   \n",
       "2256                   Systemutvecklare i grannländerna    2011-01-27   \n",
       "2257                        Chalmers eller umeå? (data)    2011-01-26   \n",
       "\n",
       "      responses  views                                link  \\\n",
       "0             0    285  https://www.flashback.org/t3345728   \n",
       "1             1    551  https://www.flashback.org/t3319003   \n",
       "2             1    437  https://www.flashback.org/t3341086   \n",
       "3             6    551  https://www.flashback.org/t3342856   \n",
       "4            26   1881  https://www.flashback.org/t3339121   \n",
       "...         ...    ...                                 ...   \n",
       "2253          2    636  https://www.flashback.org/t1442789   \n",
       "2254          7    559  https://www.flashback.org/t1439731   \n",
       "2255         11   1203  https://www.flashback.org/t1439587   \n",
       "2256          1    240  https://www.flashback.org/t1436576   \n",
       "2257          1    635   https://www.flashback.org/t992292   \n",
       "\n",
       "                        categorie       date  \\\n",
       "0          Utbildning och studier 2021-08-03   \n",
       "1          Utbildning och studier 2021-04-10   \n",
       "2          Utbildning och studier 2021-07-14   \n",
       "3          Utbildning och studier 2021-07-22   \n",
       "4          Utbildning och studier 2021-07-05   \n",
       "...                           ...        ...   \n",
       "2253  Arbetsliv och arbetsmarknad 2011-02-01   \n",
       "2254  Arbetsliv och arbetsmarknad 2011-01-29   \n",
       "2255  Arbetsliv och arbetsmarknad 2011-01-29   \n",
       "2256  Arbetsliv och arbetsmarknad 2011-01-26   \n",
       "2257  Arbetsliv och arbetsmarknad 2009-08-31   \n",
       "\n",
       "                                             first_post  \n",
       "0     Någon som vet var man kan hitta boken: program...  \n",
       "1     Nu är det så att jag har börjat få intresse fö...  \n",
       "2     Känns konstigt \n",
       "\\r\\nBehöver inte Umeå med omne...  \n",
       "3     Jag har blivit alltmer förvirrad av de svenska...  \n",
       "4     Hej!\\r\\nJag skulle vilja rådfråga flashback om...  \n",
       "...                                                 ...  \n",
       "2253  Hej, jag är 20 bast och sitter och tänker på v...  \n",
       "2254  Jag söker jobb som programmerare/webbutvecklar...  \n",
       "2255  Hej!\\n\\r\\nSom rubriken lyder;\\nVilka Utbildnin...  \n",
       "2256  Är idag systemutvecklare på ett mindre företag...  \n",
       "2257  Har hittat två utbildningar som passar mig (då...  \n",
       "\n",
       "[2258 rows x 8 columns]"
      ],
      "text/html": [
       "<div>\n",
       "<style scoped>\n",
       "    .dataframe tbody tr th:only-of-type {\n",
       "        vertical-align: middle;\n",
       "    }\n",
       "\n",
       "    .dataframe tbody tr th {\n",
       "        vertical-align: top;\n",
       "    }\n",
       "\n",
       "    .dataframe thead th {\n",
       "        text-align: right;\n",
       "    }\n",
       "</style>\n",
       "<table border=\"1\" class=\"dataframe\">\n",
       "  <thead>\n",
       "    <tr style=\"text-align: right;\">\n",
       "      <th></th>\n",
       "      <th>title</th>\n",
       "      <th>last_response</th>\n",
       "      <th>responses</th>\n",
       "      <th>views</th>\n",
       "      <th>link</th>\n",
       "      <th>categorie</th>\n",
       "      <th>date</th>\n",
       "      <th>first_post</th>\n",
       "    </tr>\n",
       "  </thead>\n",
       "  <tbody>\n",
       "    <tr>\n",
       "      <th>0</th>\n",
       "      <td>Kurslitteratur online - Programmering 1 python</td>\n",
       "      <td>2021-08-03</td>\n",
       "      <td>0</td>\n",
       "      <td>285</td>\n",
       "      <td>https://www.flashback.org/t3345728</td>\n",
       "      <td>Utbildning och studier</td>\n",
       "      <td>2021-08-03</td>\n",
       "      <td>Någon som vet var man kan hitta boken: program...</td>\n",
       "    </tr>\n",
       "    <tr>\n",
       "      <th>1</th>\n",
       "      <td>Datateknik KTH</td>\n",
       "      <td>2021-08-03</td>\n",
       "      <td>1</td>\n",
       "      <td>551</td>\n",
       "      <td>https://www.flashback.org/t3319003</td>\n",
       "      <td>Utbildning och studier</td>\n",
       "      <td>2021-04-10</td>\n",
       "      <td>Nu är det så att jag har börjat få intresse fö...</td>\n",
       "    </tr>\n",
       "    <tr>\n",
       "      <th>2</th>\n",
       "      <td>Varför finns ingen YH programmerings utbildnin...</td>\n",
       "      <td>2021-07-27</td>\n",
       "      <td>1</td>\n",
       "      <td>437</td>\n",
       "      <td>https://www.flashback.org/t3341086</td>\n",
       "      <td>Utbildning och studier</td>\n",
       "      <td>2021-07-14</td>\n",
       "      <td>Känns konstigt \\r\\nBehöver inte Umeå med omne...</td>\n",
       "    </tr>\n",
       "    <tr>\n",
       "      <th>3</th>\n",
       "      <td>Examenstitlar vid datateknik/-vetenskap?</td>\n",
       "      <td>2021-07-26</td>\n",
       "      <td>6</td>\n",
       "      <td>551</td>\n",
       "      <td>https://www.flashback.org/t3342856</td>\n",
       "      <td>Utbildning och studier</td>\n",
       "      <td>2021-07-22</td>\n",
       "      <td>Jag har blivit alltmer förvirrad av de svenska...</td>\n",
       "    </tr>\n",
       "    <tr>\n",
       "      <th>4</th>\n",
       "      <td>Statistik och dataanalys vs tekniskfysik/matem...</td>\n",
       "      <td>2021-07-26</td>\n",
       "      <td>26</td>\n",
       "      <td>1881</td>\n",
       "      <td>https://www.flashback.org/t3339121</td>\n",
       "      <td>Utbildning och studier</td>\n",
       "      <td>2021-07-05</td>\n",
       "      <td>Hej!\\r\\nJag skulle vilja rådfråga flashback om...</td>\n",
       "    </tr>\n",
       "    <tr>\n",
       "      <th>...</th>\n",
       "      <td>...</td>\n",
       "      <td>...</td>\n",
       "      <td>...</td>\n",
       "      <td>...</td>\n",
       "      <td>...</td>\n",
       "      <td>...</td>\n",
       "      <td>...</td>\n",
       "      <td>...</td>\n",
       "    </tr>\n",
       "    <tr>\n",
       "      <th>2253</th>\n",
       "      <td>Dataingenjör och Elektroingenjör!</td>\n",
       "      <td>2011-02-01</td>\n",
       "      <td>2</td>\n",
       "      <td>636</td>\n",
       "      <td>https://www.flashback.org/t1442789</td>\n",
       "      <td>Arbetsliv och arbetsmarknad</td>\n",
       "      <td>2011-02-01</td>\n",
       "      <td>Hej, jag är 20 bast och sitter och tänker på v...</td>\n",
       "    </tr>\n",
       "    <tr>\n",
       "      <th>2254</th>\n",
       "      <td>Arbetsprover för webbutvecklare(som söker jobb)</td>\n",
       "      <td>2011-02-01</td>\n",
       "      <td>7</td>\n",
       "      <td>559</td>\n",
       "      <td>https://www.flashback.org/t1439731</td>\n",
       "      <td>Arbetsliv och arbetsmarknad</td>\n",
       "      <td>2011-01-29</td>\n",
       "      <td>Jag söker jobb som programmerare/webbutvecklar...</td>\n",
       "    </tr>\n",
       "    <tr>\n",
       "      <th>2255</th>\n",
       "      <td>Vilka Utbildningar krävs för att bli Datatekni...</td>\n",
       "      <td>2011-01-30</td>\n",
       "      <td>11</td>\n",
       "      <td>1203</td>\n",
       "      <td>https://www.flashback.org/t1439587</td>\n",
       "      <td>Arbetsliv och arbetsmarknad</td>\n",
       "      <td>2011-01-29</td>\n",
       "      <td>Hej!\\n\\r\\nSom rubriken lyder;\\nVilka Utbildnin...</td>\n",
       "    </tr>\n",
       "    <tr>\n",
       "      <th>2256</th>\n",
       "      <td>Systemutvecklare i grannländerna</td>\n",
       "      <td>2011-01-27</td>\n",
       "      <td>1</td>\n",
       "      <td>240</td>\n",
       "      <td>https://www.flashback.org/t1436576</td>\n",
       "      <td>Arbetsliv och arbetsmarknad</td>\n",
       "      <td>2011-01-26</td>\n",
       "      <td>Är idag systemutvecklare på ett mindre företag...</td>\n",
       "    </tr>\n",
       "    <tr>\n",
       "      <th>2257</th>\n",
       "      <td>Chalmers eller umeå? (data)</td>\n",
       "      <td>2011-01-26</td>\n",
       "      <td>1</td>\n",
       "      <td>635</td>\n",
       "      <td>https://www.flashback.org/t992292</td>\n",
       "      <td>Arbetsliv och arbetsmarknad</td>\n",
       "      <td>2009-08-31</td>\n",
       "      <td>Har hittat två utbildningar som passar mig (då...</td>\n",
       "    </tr>\n",
       "  </tbody>\n",
       "</table>\n",
       "<p>2258 rows × 8 columns</p>\n",
       "</div>"
      ]
     },
     "metadata": {},
     "execution_count": 14
    }
   ],
   "metadata": {}
  },
  {
   "cell_type": "markdown",
   "source": [
    "# Analys av data\r\n",
    "\r\n",
    "## Trådanalys\r\n",
    "\r\n",
    "Inledningsvis är det en god idé att skaffa sig en enkel dataöverblick. Till exemepel är andelen trådar från respektive kategori 17% från Arbetsliv och arbetsmarknad, och resterande 83% är från Utbildning och studier."
   ],
   "metadata": {}
  },
  {
   "cell_type": "code",
   "execution_count": 9,
   "source": [
    "# Load flashback_filtered_df from local storage so we don't have to re-scrape the web\r\n",
    "flashback_df = pd.read_csv('flashback_filtered_df.csv', encoding='windows-1252', sep=';')"
   ],
   "outputs": [],
   "metadata": {}
  },
  {
   "cell_type": "code",
   "execution_count": null,
   "source": [
    "# Diagram: Percentages of threads per categorie "
   ],
   "outputs": [],
   "metadata": {}
  },
  {
   "cell_type": "markdown",
   "source": [
    "Om vi tar alla dessa trådar och dividerar antalet med totala antalet trådar från `flashback_df`, ser vi att andelen endast är \"\"\". Det finns trots allt ett stort antal olika yrken och en hel drös med utbildningar i Sverige, så även om datavetenskap och andra relaterande ämnen som statistik- eller teknik är populära, tar de ändå en förhållandevis liten plats i jämförelse med allt annat samlat. Dessutom finns givetvis chansen (eller risken, från denna rapports perspektiv) att vissa enskilda trådar äter upp ett stort antal inlägg som egentligen hade kunnat varit egna trådar.\r\n",
    "\r\n",
    "Låt oss då se hur de ämnesrelaterade trådarna vi hittar i `filtered_df` har utvecklats under 2000-talet såhär långt. Som vi ser i följande kodstycke har jag filtrerat bort år 2021 eftersom det precis har startat. Det vore ju orättvist mot 2021 att inte ge det samma förutsättningar som de andra åren! "
   ],
   "metadata": {}
  },
  {
   "cell_type": "code",
   "execution_count": null,
   "source": [
    "# Diagram: Number of threads related to DS per year since 2003"
   ],
   "outputs": [],
   "metadata": {}
  },
  {
   "cell_type": "markdown",
   "source": [
    "Åren 2003 till 2007 har nästan noll till antalet. Det dröjer till 2008-2010 innan antalet börjar stiga på riktigt. Här passar det bra att tipsa den intresserade om en artikel från Forbes som heter \"A Very Short History of Data Science\" (länk i källförteckning). Artikeln är från 2013, men ger en informativ beskrivning av hur Data Science historia såg ut fram till den tidpunkten. I slutet av artikeln framgår det bland annat att tillväxten av analytiker- och Data Science-jobb i princip går spikrakt upp 2009-2010, vilket stämmer väl överens med vad figur 2 ovan antyder om intresset för ämnet. \r\n",
    "\r\n",
    "Efter 2012 ser vi däremot en oväntad nedgång i antalet inlägg. En tanke är att detta kan ha att göra med vad jag nämnde tidigare, nämligen att nya inlägg postas i befintliga trådar istället för att skapa nya trådar. Dessa kan alltså tänkas ta upp en hel del inlägg som egentligen skulle kunna ha varit starten på nya trådar.\r\n",
    "\r\n",
    "När vi ändå är inne på det spåret kan vi också kolla på det datum då det senaste inlägget publicerades i de trådar med flest svar. Vi försöker alltså svara på frågan \"Är de största trådarna fortfarande aktiva?\". De 10 största trådarna från respektive kategori ser vi i de två tabellerna nedan."
   ],
   "metadata": {}
  },
  {
   "cell_type": "code",
   "execution_count": null,
   "source": [
    "# Table: Top 10 threads with the most answers from Utbildning och studier\r\n",
    "\r\n",
    "# Table: Top 10 threads with the most answers from Arbetsliv och arbetsmarknad"
   ],
   "outputs": [],
   "metadata": {}
  },
  {
   "cell_type": "markdown",
   "source": [
    "\"Master i statisik\" innehåller 162 svar och därför skulle man kunna tänka sig denna innehåller många inlägg som annars kunde varit egna trådar. Denna tråds senaste inlägg publicerades dock 2010, så i det här fallet fallerade resonemanget tyvärr. I tabell 2 ser det bättre ut. Den tredje största tråden från *Arbetsmarknad och arbetsliv* heter nämligen \"Data scientist\", spot on med andra ord! Detta är en hyggligt stor tråd från 2017 med 126 svar, där det senaste svaret publicerades för två veckor sedan. Med andra ord tråd som fortfarande är aktiv. Även den fjärde största tråden är intressant, eftersom Business Intelligence är nära kopplat till Data Science. Denna tråd ser ut att vara ungefär lika aktiv som \"Data scientist\".\r\n",
    "\r\n",
    "För att få en överblick över hur många relaterade trådar som verkar ha dött ut kollar vi även antalet trådar vars senaste inlägg publicerades samma år. "
   ],
   "metadata": {}
  },
  {
   "cell_type": "code",
   "execution_count": null,
   "source": [
    "# Diagram: Number of threads for which the latest answer were published the same year"
   ],
   "outputs": [],
   "metadata": {}
  },
  {
   "cell_type": "markdown",
   "source": [
    "Inte helt oväntat är det många trådar från 2011-2015 som inte är aktiva längre. Värt att notera är dock att det under perioden 2017-2020 är flera trådar som är aktiva än vad publicerats helt nya trådar. Det är givets vad man också kunde förväntat sig ju närmare nutid man tittar. En tråd som publicerades 2020 kan ju inte ha sitt senaste svar från 2019, till exempel. \r\n",
    "\r\n",
    "## Ordanalys\r\n",
    "\r\n",
    "Vi ska nu se om vi kan ta reda på styrkan i inläggen. Med styrka menas alltså ordens \"sentiment\", som på engelska betyder ungefär \"känsla\" eller \"stämning\". För att lyckas med detta krävs en tabell med ett stort antal vanliga svenska ord tillsammans med respektive ords styrka. Ett sådant sentimentlexikon finns tillhandahållen på GitHub (se kod/källhänvisnning), fri att använda för vem som helst.\r\n",
    "\r\n",
    "Innan vi tittar på inläggens styrka så undersöker vi vilka de vanligaste orden är. Ord som \"jag\", \"hej\" eller liknande kallas för stoppord. Dessa är förstås ointressanta. Istället skapar vi ett så kallat word cloud där dessa ord är bortfiltrerade. För detta ändamål används ytteliggare två paket; `wordcloud2` för skapandet av ordmolnet och `RColorBrewer` för tillhörande färgschema."
   ],
   "metadata": {}
  },
  {
   "cell_type": "code",
   "execution_count": null,
   "source": [
    "# Word cloud"
   ],
   "outputs": [],
   "metadata": {}
  },
  {
   "cell_type": "markdown",
   "source": [
    "Att visualisera de vanligaste orden på det här sättet är dels fint att titta på, men det är också ett effektivt sätt att bilda en uppfattning om de vanligaste orden. Matematik och programmering toppar listan.\r\n",
    "\r\n",
    "Vidare till inläggens styrka. För att lyckas med detta skapar jag en ny data frame, `threads_sentiment_df`. Utöver de redan kända variablerna ID, title, date och categorie, innehåller denna tabell även\r\n",
    "\r\n",
    "* *word_matches*: antal ord från trådstartarens första inlägg som matchats med något av orden i `sentiments_df`\r\n",
    "* *post_strength*: den beräknade styrkan i respektive inlägg\r\n",
    "* *pos_proportion* och *neg_proportion*: andelen matchade ord som är markerade som positiva respektive negativa.\r\n",
    "\r\n",
    "Efter att ha sammanfogat de önskade variablerna (kolumnerna) från `filtered_df` med de önskade variablerna från `sentiments_df` passar jag även på att filtrera bort alla trådar som har färre än 20 stycken ordmatchningar. Anledningen till detta är att det finns trådar vars första inlägg är väldigt korta och kanske bara har ett fåtal ordmatchningar. Om dessa ord råkar vara markerade som negativa och med negativ styrka kommer hela inlägget att framstå som väldigt negativa, när deras enda brott kanske egentligen var att inlägget var kort. Kvar har vi en tabell med 126 trådar och följande struktur:"
   ],
   "metadata": {}
  },
  {
   "cell_type": "code",
   "execution_count": null,
   "source": [
    "# Glimpse of sentiment data frame"
   ],
   "outputs": [],
   "metadata": {}
  },
  {
   "cell_type": "markdown",
   "source": [
    "Med hjälp av ett spridningsdiagram blir det enklare att förstå vår data. Jag låter en grön linje gå längs noll, som representerar en neutral styrkenivå. "
   ],
   "metadata": {}
  },
  {
   "cell_type": "code",
   "execution_count": null,
   "source": [
    "# Scatter diagram: Thread starters inital posts' word strength"
   ],
   "outputs": [],
   "metadata": {}
  },
  {
   "cell_type": "markdown",
   "source": [
    "Spridningen ser ganska jämn ut, möjligen något positivt lutande. Andelen positiva inlägg är `r prop_pos_posts*100`%. Däremot är den genomsnittliga styrkan i inläggen endast `r mean_strength`, dvs ganska neutral.\r\n",
    "\r\n",
    "En sak som vore intressant i det här läget är att titta på de mest positiva och de mest negativa inläggen för att se om tabellen talar sanning. Följande inlägg har högst/lägst styrka."
   ],
   "metadata": {}
  },
  {
   "cell_type": "code",
   "execution_count": null,
   "source": [
    "# Table: Threads with highest strength\r\n",
    "\r\n",
    "# Table: Threads with lowest strength"
   ],
   "outputs": [],
   "metadata": {}
  },
  {
   "cell_type": "markdown",
   "source": [
    "Öppningsinlägget från tråden \"KTH eller Chalmers? Stockholmare som ska plugga datateknik.\" lyder såhär:"
   ],
   "metadata": {}
  },
  {
   "cell_type": "code",
   "execution_count": null,
   "source": [
    "# Inital post from the thread with highest strength"
   ],
   "outputs": [],
   "metadata": {}
  },
  {
   "cell_type": "markdown",
   "source": [
    "Personen bakom inlägget använder ord som \"bästa\", \"bättre\", \"passionerad\", \"lyckas\" och \"uppskattas\" vilket antagligen lagt till positiv styrka från sentimenttabellen. Dock förekommer även negativa ord som \"less\", \"rädd\", \"larm\" och \"jättefarligt\", vilket såklart drar ner styrkan. \r\n",
    "\r\n",
    "Vi tittar också på öppningsinlägget från tråden \"Stöd angående val av studier [Datavetenskap mm]\"."
   ],
   "metadata": {}
  },
  {
   "cell_type": "code",
   "execution_count": null,
   "source": [
    "# Inital post from the thread with lowest strength"
   ],
   "outputs": [],
   "metadata": {}
  },
  {
   "cell_type": "markdown",
   "source": [
    "Ja, ett inlägg som öppnar med \"Jag har extrem ångest\" är såklart illavarslande vad gäller den positiva styrkan. Sedan fortsätter inlägget med ord som till exempel \"ifrågasätter\", \"misstag\", \"mesig\", \"dum\" och \"osäker\". Reslutatet? Högsta placering på listan med de mest negativa inläggen!\r\n",
    "\r\n",
    "# Slutsats\r\n",
    "\r\n",
    "Vad gäller tesen om att antalet trådstartar skulle befinna sig i en slags uppåtlutande kurva måste jag tyvärr konstatera att inhämtad data inte styrker det påståendet. Snarare tvärtom faktiskt! Delförklaringen till detta kan vara att nya inlägg postas i befintliga trådar, men det kan likväl vara så att antalet aktiva användare på forumet har gått ned. \r\n",
    "\r\n",
    "Om både sentimentlistan och inläggen hade varit längre skulle antagligen tabellerna vara säkrare. Nu fanns det en stor begränsning i antal ord eftersom sentimentlistan inte täcker in i närheten av så många ord som man hade önskat (den består av 2067 ord). Dessutom innehåller inte inläggen så mycket text. Jag anser att sentimenttabellen tycks fungera någorlunda bra eftersom min känsla efter att ha läst inläggen korresponderar med inläggens påstådda styrka från tabellerna.\r\n",
    "\r\n",
    "# Källförteckning\r\n",
    "\r\n",
    "Press, G. 2013. *A Very Short History Of Data Science*. www.forbes.com. 2013-05-28. Tillgänglig: https://www.forbes.com/sites/gilpress/2013/05/28/a-very-short-history-of-data-science/?sh=21ae6fbb55cf [Hämtad 2021-01-13].\r\n",
    "\r\n",
    "Sentimentlexikon från Språkbanken: Nusko, Bianka and Tahmasebi, Nina and Mogren, Olof. 2016. Building a Sentiment Lexicon for Swedish."
   ],
   "metadata": {}
  }
 ],
 "metadata": {
  "orig_nbformat": 4,
  "language_info": {
   "name": "python",
   "version": "3.9.1",
   "mimetype": "text/x-python",
   "codemirror_mode": {
    "name": "ipython",
    "version": 3
   },
   "pygments_lexer": "ipython3",
   "nbconvert_exporter": "python",
   "file_extension": ".py"
  },
  "kernelspec": {
   "name": "python3",
   "display_name": "Python 3.9.1 64-bit ('.venv': venv)"
  },
  "interpreter": {
   "hash": "f96054bd8a562ab59177dc49b35c785ba6e7b5763af3c8585feb0e07e264b46e"
  }
 },
 "nbformat": 4,
 "nbformat_minor": 2
}